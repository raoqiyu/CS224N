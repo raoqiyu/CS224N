{
 "cells": [
  {
   "cell_type": "code",
   "execution_count": 2,
   "metadata": {},
   "outputs": [],
   "source": [
    "from numpy import random"
   ]
  },
  {
   "cell_type": "code",
   "execution_count": 4,
   "metadata": {},
   "outputs": [],
   "source": [
    "N = 500\n",
    "d = 300\n",
    "c = 5\n",
    "W = random.rand(c,d)\n",
    "wordvectors_list = [random.rand(d,1) for i in range(N)]\n",
    "wordvectors_one_matrix = random.rand(d,N)"
   ]
  },
  {
   "cell_type": "code",
   "execution_count": 5,
   "metadata": {},
   "outputs": [
    {
     "name": "stdout",
     "output_type": "stream",
     "text": [
      "The slowest run took 13.36 times longer than the fastest. This could mean that an intermediate result is being cached.\n",
      "1000 loops, best of 3: 476 µs per loop\n"
     ]
    }
   ],
   "source": [
    "%timeit [W.dot(wordvectors_list[i]) for i in range(N)]\n"
   ]
  },
  {
   "cell_type": "code",
   "execution_count": 6,
   "metadata": {},
   "outputs": [
    {
     "name": "stdout",
     "output_type": "stream",
     "text": [
      "The slowest run took 26.36 times longer than the fastest. This could mean that an intermediate result is being cached.\n",
      "10000 loops, best of 3: 23.9 µs per loop\n"
     ]
    }
   ],
   "source": [
    "%timeit W.dot(wordvectors_one_matrix)\n"
   ]
  },
  {
   "cell_type": "code",
   "execution_count": null,
   "metadata": {
    "collapsed": true
   },
   "outputs": [],
   "source": []
  }
 ],
 "metadata": {
  "kernelspec": {
   "display_name": "Python 3",
   "language": "python",
   "name": "python3"
  },
  "language_info": {
   "codemirror_mode": {
    "name": "ipython",
    "version": 3
   },
   "file_extension": ".py",
   "mimetype": "text/x-python",
   "name": "python",
   "nbconvert_exporter": "python",
   "pygments_lexer": "ipython3",
   "version": "3.6.1"
  }
 },
 "nbformat": 4,
 "nbformat_minor": 2
}
